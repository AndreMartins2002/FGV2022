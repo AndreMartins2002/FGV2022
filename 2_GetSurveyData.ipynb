{
  "nbformat": 4,
  "nbformat_minor": 0,
  "metadata": {
    "colab": {
      "name": "2 - GetSurveyData.ipynb",
      "provenance": [],
      "collapsed_sections": []
    },
    "kernelspec": {
      "name": "python3",
      "display_name": "Python 3"
    },
    "language_info": {
      "name": "python"
    }
  },
  "cells": [
    {
      "cell_type": "markdown",
      "source": [
        "After completing the survey using google forms:\n",
        "- Publish your spreadsheet with the answers\n",
        "- You need to publish it as a CSV file. \n",
        "- Copy and paste the link below."
      ],
      "metadata": {
        "id": "23ZylGIiNPaO"
      }
    },
    {
      "cell_type": "code",
      "source": [
        "LinkToData_asCSV=\"https://docs.google.com/spreadsheets/d/e/2PACX-1vRLvqkBKNMv7Nii0MgOk3dYLHt0TQ6Z8L4sFsfbWMSdyd_GvnU4bdNEeZXaS-yvAXL5pZkM2SOxcJo_/pub?gid=1920066012&single=true&output=csv\""
      ],
      "metadata": {
        "id": "SEHCZPiaNPCm"
      },
      "execution_count": 5,
      "outputs": []
    },
    {
      "cell_type": "markdown",
      "source": [
        "Once you have the link, it is really easy to get the data:"
      ],
      "metadata": {
        "id": "Zf065dQ_NXNG"
      }
    },
    {
      "cell_type": "code",
      "source": [
        "import pandas as pd\n",
        "\n",
        "data_answers=pd.read_csv(LinkToData_asCSV)\n",
        "\n"
      ],
      "metadata": {
        "id": "qD0xmnMqNg12"
      },
      "execution_count": 6,
      "outputs": []
    },
    {
      "cell_type": "markdown",
      "source": [
        "data_answers"
      ],
      "metadata": {
        "id": "VwAfJxj0Nms1"
      }
    },
    {
      "cell_type": "code",
      "source": [
        "# here we save the comple link (in quotations):\n",
        "link='https://en.wikipedia.org/wiki/List_of_wars_by_death_toll'"
      ],
      "metadata": {
        "id": "4cAtab6M6XCI"
      },
      "execution_count": 9,
      "outputs": []
    }
  ]
}